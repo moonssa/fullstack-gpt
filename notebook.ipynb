{
 "cells": [
  {
   "cell_type": "code",
   "execution_count": 63,
   "metadata": {},
   "outputs": [],
   "source": [
    "from langchain.chat_models import ChatOpenAI\n",
    "from langchain.prompts import ChatPromptTemplate\n",
    "\n",
    "chat=ChatOpenAI(temperature=0.9)\n",
    "\n",
    "haiku_prompt= ChatPromptTemplate.from_messages([\n",
    "  (\"system\", \"당신은 하이쿠를 창작하는 시인입니다. 프로그래밍 언어의 본질을 부각해서 한글로 표현해주세요.\"), \n",
    "  (\"human\", \"I want Haiku  about {language} \")\n",
    "])\n",
    "\n",
    "haiku_chain = haiku_prompt | chat\n",
    "# haiku_chain.invoke({\"language\":\"python\"})\n"
   ]
  },
  {
   "cell_type": "code",
   "execution_count": 64,
   "metadata": {},
   "outputs": [],
   "source": [
    "explanation_prompt = ChatPromptTemplate.from_messages([\n",
    "  (\"system\", \"너는 하이쿠 시를 읽고 표현하는 비평가다. 하이쿠시를 보여주고, 각 절에대해  설명을 해 줘. 그리고 어떻게 이야기해야 할지 모르겠으면, 어렵다고 대답해줘\"),\n",
    "  (\"human\", \"{haiku}\")\n",
    "])\n",
    "\n",
    "explanation_chain = explanation_prompt | chat"
   ]
  },
  {
   "cell_type": "code",
   "execution_count": 65,
   "metadata": {},
   "outputs": [
    {
     "data": {
      "text/plain": [
       "AIMessage(content='이 하이쿠 시는 파이썬 프로그래밍 언어에 대한 찬사를 담고 있습니다. \\n\\n첫째 줄 \"파이썬이여\"는 파이썬에 대한 애정을 나타내며, 파이썬이라는 주제를 소개합니다. \\n\\n둘째 줄 \"간결하고 아름다\"는 파이썬이 간결하면서도 아름다운 문법과 구조를 가지고 있다는 점을 강조합니다. \\n\\n셋째 줄 \"코드를 품는다\"는 파이썬이 코드를 담아내는 공간이라는 의미로, 코드를 쓰고 실행하는 즐거움을 표현하고 있습니다.\\n\\n이 하이쿠 시는 파이썬의 강점을 간결하게 표현하여 파이썬을 사랑하는 프로그래머들에게 전달하는 메시지로 해석할 수 있습니다.')"
      ]
     },
     "execution_count": 65,
     "metadata": {},
     "output_type": "execute_result"
    }
   ],
   "source": [
    "final_chain = {\"haiku\":haiku_chain} | explanation_chain\n",
    "final_chain.invoke({\"language\":\"python\"})"
   ]
  }
 ],
 "metadata": {
  "kernelspec": {
   "display_name": "env",
   "language": "python",
   "name": "python3"
  },
  "language_info": {
   "codemirror_mode": {
    "name": "ipython",
    "version": 3
   },
   "file_extension": ".py",
   "mimetype": "text/x-python",
   "name": "python",
   "nbconvert_exporter": "python",
   "pygments_lexer": "ipython3",
   "version": "3.11.7"
  }
 },
 "nbformat": 4,
 "nbformat_minor": 2
}
