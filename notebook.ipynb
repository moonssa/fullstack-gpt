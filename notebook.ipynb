{
 "cells": [
  {
   "cell_type": "code",
   "execution_count": 113,
   "metadata": {},
   "outputs": [
    {
     "name": "stdout",
     "output_type": "stream",
     "text": [
      "starwars --- content='AI: \\n        Here are three emojis that come to mind when I think of Star Wars:\\n        ⭐️🚀👽' AI: \n",
      "        Here are three emojis that come to mind when I think of Star Wars:\n",
      "        ⭐️🚀👽\n",
      "harry potter --- content='AI: ⚡🧙🏰' AI: ⚡🧙🏰\n"
     ]
    }
   ],
   "source": [
    "from langchain.chat_models import ChatOpenAI\n",
    "from langchain.prompts import ChatPromptTemplate, PromptTemplate\n",
    "from langchain.prompts.few_shot import  FewShotPromptTemplate\n",
    "\n",
    "from langchain.memory import ConversationSummaryBufferMemory\n",
    "from langchain.schema.runnable import RunnablePassthrough\n",
    "from langchain.prompts import ChatPromptTemplate, MessagesPlaceholder\n",
    "\n",
    "chat=ChatOpenAI(temperature=0.1)\n",
    "memory = ConversationSummaryBufferMemory(\n",
    "  llm=chat,\n",
    "  max_token_limit=120,\n",
    "  return_messages=True  #문자열로 바꾸지 말고 실제 메세지로 바꿔달라는 것을 의미\n",
    ")\n",
    "\n",
    "examples = [\n",
    "    {\n",
    "        \"film\": \"Dune2\",\n",
    "        \"answer\": \"\"\"\n",
    "        Here is what I know:\n",
    "        🏜️ 🪐 🦂 \n",
    "        \"\"\",\n",
    "    },\n",
    "    {\n",
    "        \"film\": \"Top Gun\",\n",
    "        \"answer\": \"\"\"\n",
    "        I know this:\n",
    "        🛩️ 👨‍✈️ 🔥\n",
    "        \"\"\",\n",
    "    },\n",
    "    {\n",
    "        \"film\": \"The Godfather\",\n",
    "        \"answer\": \"\"\"\n",
    "        I know this:\n",
    "        👨‍👨‍👦🔫🍝\n",
    "        \"\"\",\n",
    "    },\n",
    "]\n",
    "example_prompt = PromptTemplate.from_template(\n",
    "  \"Human: {film} \\n AI:{answer}\"\n",
    ") \n",
    "\n",
    "prompt = FewShotPromptTemplate(\n",
    "  example_prompt=example_prompt,\n",
    "  examples = examples, \n",
    "  input_variables=[\"film\"],\n",
    "  suffix=\"Human:What are three emojis that come to mind when you look at the title of this {film}?\"\n",
    ")\n",
    "\n",
    "def load_memory(_):\n",
    "  return memory.load_memory_variables({})[\"history\"]\n",
    "\n",
    "\n",
    "\n",
    "chain = RunnablePassthrough.assign(history=load_memory)| prompt|chat\n",
    "\n",
    "\n",
    "def invoke_chain(question):\n",
    "  result = chain.invoke(\n",
    "    {\"film\":question}\n",
    "  )\n",
    "  memory.save_context({\"input\":question}, {\"output\":result.content})\n",
    "  print(question, \"---\", result, result.content)\n",
    "\n",
    "invoke_chain(\"starwars\")\n",
    "invoke_chain(\"harry potter\")"
   ]
  },
  {
   "cell_type": "code",
   "execution_count": 118,
   "metadata": {},
   "outputs": [
    {
     "data": {
      "text/plain": [
       "{'history': [HumanMessage(content='starwars'),\n",
       "  AIMessage(content='AI: \\n        Here are three emojis that come to mind when I think of Star Wars:\\n        ⭐️🚀👽'),\n",
       "  HumanMessage(content='harry potter'),\n",
       "  AIMessage(content='AI: ⚡🧙🏰')]}"
      ]
     },
     "execution_count": 118,
     "metadata": {},
     "output_type": "execute_result"
    }
   ],
   "source": [
    "memory.load_memory_variables({\"inputs\":\"starwars\"})[history]\n"
   ]
  },
  {
   "cell_type": "markdown",
   "metadata": {},
   "source": []
  },
  {
   "cell_type": "code",
   "execution_count": 111,
   "metadata": {},
   "outputs": [
    {
     "data": {
      "text/plain": [
       "{'history': [SystemMessage(content='On moon: moon is Hi. moon lives in Seoul.')]}"
      ]
     },
     "execution_count": 111,
     "metadata": {},
     "output_type": "execute_result"
    }
   ],
   "source": [
    "from langchain.memory import ConversationKGMemory\n",
    "memory = ConversationKGMemory(\n",
    "  llm=chat,\n",
    "  return_messages=True\n",
    ")\n",
    "\n",
    "def add_message(input, output):\n",
    "  memory.save_context({\"input\":input}, {\"output\":output})\n",
    "\n",
    "add_message(\"Hi, I'm moon, I live in Seoul\", \"Wow that is so cool\")\n",
    "memory.load_memory_variables({\"inputs\":\"Who is moon?\"})"
   ]
  },
  {
   "cell_type": "code",
   "execution_count": 121,
   "metadata": {},
   "outputs": [
    {
     "ename": "ValidationError",
     "evalue": "2 validation errors for ChatOpenAI\ncallbacks -> 0\n  instance of BaseCallbackHandler expected (type=type_error.arbitrary_type; expected_arbitrary_type=BaseCallbackHandler)\ncallbacks\n  instance of BaseCallbackManager expected (type=type_error.arbitrary_type; expected_arbitrary_type=BaseCallbackManager)",
     "output_type": "error",
     "traceback": [
      "\u001b[0;31m---------------------------------------------------------------------------\u001b[0m",
      "\u001b[0;31mValidationError\u001b[0m                           Traceback (most recent call last)",
      "Cell \u001b[0;32mIn[121], line 10\u001b[0m\n\u001b[1;32m      7\u001b[0m \u001b[38;5;28;01mfrom\u001b[39;00m \u001b[38;5;21;01mlangchain\u001b[39;00m\u001b[38;5;21;01m.\u001b[39;00m\u001b[38;5;21;01mschema\u001b[39;00m\u001b[38;5;21;01m.\u001b[39;00m\u001b[38;5;21;01mrunnable\u001b[39;00m \u001b[38;5;28;01mimport\u001b[39;00m RunnablePassthrough\n\u001b[1;32m      8\u001b[0m \u001b[38;5;28;01mfrom\u001b[39;00m \u001b[38;5;21;01mlangchain\u001b[39;00m\u001b[38;5;21;01m.\u001b[39;00m\u001b[38;5;21;01mprompts\u001b[39;00m \u001b[38;5;28;01mimport\u001b[39;00m ChatPromptTemplate, MessagesPlaceholder\n\u001b[0;32m---> 10\u001b[0m chat\u001b[38;5;241m=\u001b[39m\u001b[43mChatOpenAI\u001b[49m\u001b[43m(\u001b[49m\u001b[43mtemperature\u001b[49m\u001b[38;5;241;43m=\u001b[39;49m\u001b[38;5;241;43m0.1\u001b[39;49m\u001b[43m,\u001b[49m\u001b[43m \u001b[49m\u001b[43mstreaming\u001b[49m\u001b[38;5;241;43m=\u001b[39;49m\u001b[38;5;28;43;01mTrue\u001b[39;49;00m\u001b[43m,\u001b[49m\u001b[43m \u001b[49m\n\u001b[1;32m     11\u001b[0m \u001b[43m                \u001b[49m\u001b[43mcallbacks\u001b[49m\u001b[38;5;241;43m=\u001b[39;49m\u001b[43m[\u001b[49m\u001b[43mStreamingStdOutCallbackHandler\u001b[49m\u001b[43m]\u001b[49m\u001b[43m)\u001b[49m\n\u001b[1;32m     13\u001b[0m examples \u001b[38;5;241m=\u001b[39m [\n\u001b[1;32m     14\u001b[0m     {\n\u001b[1;32m     15\u001b[0m         \u001b[38;5;124m\"\u001b[39m\u001b[38;5;124mfilm\u001b[39m\u001b[38;5;124m\"\u001b[39m: \u001b[38;5;124m\"\u001b[39m\u001b[38;5;124mDune2\u001b[39m\u001b[38;5;124m\"\u001b[39m,\n\u001b[0;32m   (...)\u001b[0m\n\u001b[1;32m     31\u001b[0m     },\n\u001b[1;32m     32\u001b[0m ]\n\u001b[1;32m     33\u001b[0m example_prompt \u001b[38;5;241m=\u001b[39m PromptTemplate\u001b[38;5;241m.\u001b[39mfrom_template(\n\u001b[1;32m     34\u001b[0m   \u001b[38;5;124m\"\u001b[39m\u001b[38;5;124mHuman: I want to see three emojis that represent thus \u001b[39m\u001b[38;5;132;01m{film}\u001b[39;00m\u001b[38;5;124m \u001b[39m\u001b[38;5;130;01m\\n\u001b[39;00m\u001b[38;5;124m AI: \u001b[39m\u001b[38;5;132;01m{film}\u001b[39;00m\u001b[38;5;124m : \u001b[39m\u001b[38;5;132;01m{answer}\u001b[39;00m\u001b[38;5;124m\"\u001b[39m\n\u001b[1;32m     35\u001b[0m ) \n",
      "File \u001b[0;32m~/Documents/coder/Python/fullstack-gpt-1th/env/lib/python3.11/site-packages/langchain/load/serializable.py:97\u001b[0m, in \u001b[0;36mSerializable.__init__\u001b[0;34m(self, **kwargs)\u001b[0m\n\u001b[1;32m     96\u001b[0m \u001b[38;5;28;01mdef\u001b[39;00m \u001b[38;5;21m__init__\u001b[39m(\u001b[38;5;28mself\u001b[39m, \u001b[38;5;241m*\u001b[39m\u001b[38;5;241m*\u001b[39mkwargs: Any) \u001b[38;5;241m-\u001b[39m\u001b[38;5;241m>\u001b[39m \u001b[38;5;28;01mNone\u001b[39;00m:\n\u001b[0;32m---> 97\u001b[0m     \u001b[38;5;28;43msuper\u001b[39;49m\u001b[43m(\u001b[49m\u001b[43m)\u001b[49m\u001b[38;5;241;43m.\u001b[39;49m\u001b[38;5;21;43m__init__\u001b[39;49m\u001b[43m(\u001b[49m\u001b[38;5;241;43m*\u001b[39;49m\u001b[38;5;241;43m*\u001b[39;49m\u001b[43mkwargs\u001b[49m\u001b[43m)\u001b[49m\n\u001b[1;32m     98\u001b[0m     \u001b[38;5;28mself\u001b[39m\u001b[38;5;241m.\u001b[39m_lc_kwargs \u001b[38;5;241m=\u001b[39m kwargs\n",
      "File \u001b[0;32m~/Documents/coder/Python/fullstack-gpt-1th/env/lib/python3.11/site-packages/pydantic/main.py:341\u001b[0m, in \u001b[0;36mpydantic.main.BaseModel.__init__\u001b[0;34m()\u001b[0m\n",
      "\u001b[0;31mValidationError\u001b[0m: 2 validation errors for ChatOpenAI\ncallbacks -> 0\n  instance of BaseCallbackHandler expected (type=type_error.arbitrary_type; expected_arbitrary_type=BaseCallbackHandler)\ncallbacks\n  instance of BaseCallbackManager expected (type=type_error.arbitrary_type; expected_arbitrary_type=BaseCallbackManager)"
     ]
    }
   ],
   "source": [
    "from langchain.chat_models import ChatOpenAI\n",
    "from langchain.prompts import ChatPromptTemplate, PromptTemplate\n",
    "from langchain.prompts.few_shot import  FewShotPromptTemplate\n",
    "from langchain.callbacks import StreamingStdOutCallbackHandler\n",
    "\n",
    "from langchain.memory import ConversationSummaryBufferMemory\n",
    "from langchain.schema.runnable import RunnablePassthrough\n",
    "from langchain.prompts import ChatPromptTemplate, MessagesPlaceholder\n",
    "\n",
    "chat=ChatOpenAI(temperature=0.1, streaming=True, \n",
    "                callbacks=[StreamingStdOutCallbackHandler()])\n",
    "\n",
    "examples = [\n",
    "    {\n",
    "        \"film\": \"Dune2\",\n",
    "        \"answer\": \"\"\"\n",
    "        🏜️ 🪐 🦂 \n",
    "        \"\"\",\n",
    "    },\n",
    "    {\n",
    "        \"film\": \"Top Gun\",\n",
    "        \"answer\": \"\"\"\n",
    "        🛩️ 👨‍✈️ 🔥\n",
    "        \"\"\",\n",
    "    },\n",
    "    {\n",
    "        \"film\": \"The Godfather\",\n",
    "        \"answer\": \"\"\"\n",
    "        👨‍👨‍👦🔫🍝\n",
    "        \"\"\",\n",
    "    },\n",
    "]\n",
    "example_prompt = PromptTemplate.from_template(\n",
    "  \"Human: I want to see three emojis that represent thus {film} \\n AI: {film} : {answer}\"\n",
    ") \n",
    "\n",
    "prompt = FewShotPromptTemplate(\n",
    "  example_prompt=example_prompt,\n",
    "  examples = examples, \n",
    "  input_variables=[\"film\"],\n",
    "  suffix=\"Human:What are three emojis that come to mind when you look at the title of this {film}?\"\n",
    ")\n",
    "\n",
    "chain = prompt | chat\n",
    "result = chain.invoke({\"film\":\"harry potter\"})\n",
    "print(result.content)"
   ]
  }
 ],
 "metadata": {
  "kernelspec": {
   "display_name": "env",
   "language": "python",
   "name": "python3"
  },
  "language_info": {
   "codemirror_mode": {
    "name": "ipython",
    "version": 3
   },
   "file_extension": ".py",
   "mimetype": "text/x-python",
   "name": "python",
   "nbconvert_exporter": "python",
   "pygments_lexer": "ipython3",
   "version": "3.11.7"
  }
 },
 "nbformat": 4,
 "nbformat_minor": 2
}
