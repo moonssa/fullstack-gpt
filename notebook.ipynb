{
 "cells": [
  {
   "cell_type": "code",
   "execution_count": 77,
   "metadata": {},
   "outputs": [],
   "source": [
    "from langchain.chat_models import ChatOpenAI\n",
    "from langchain.prompts import ChatPromptTemplate, PromptTemplate\n",
    "from langchain.prompts.few_shot import FewShotChatMessagePromptTemplate, FewShotPromptTemplate\n",
    "chat=ChatOpenAI(temperature=0.1)\n"
   ]
  },
  {
   "cell_type": "code",
   "execution_count": 69,
   "metadata": {},
   "outputs": [],
   "source": [
    "examples = [\n",
    "    {\n",
    "        \"film\": \"Dune2\",\n",
    "        \"answer\": \"\"\"\n",
    "        Here is what I know:\n",
    "        Director: Denis Villeneuve\n",
    "        Main Cast: Timothée Chalamet (Paul Atreides), Rebecca Ferguson (Lady Jessica)\n",
    "        Budget: $165 million\n",
    "        Box Office: $434.8 million\n",
    "        Genre: Epic science fiction\n",
    "        Synopsis: The film is set in a distant future where Paul Atreides, whose family, the noble House Atreides, becomes embroiled in a war for the desert planet Arrakis. This planet is the sole source of \"spice,\" a substance that grants vitality and psychic abilities, making it crucial for space travel. The story explores themes of power, betrayal, and destiny, as Paul confronts his role in a larger universe and a prophecy that might alter the course of history.\n",
    "        \"\"\",\n",
    "    },\n",
    "    {\n",
    "        \"film\": \"Parasite\",\n",
    "        \"answer\": \"\"\"\n",
    "        I know this:\n",
    "        Director: Bong Joon-ho\n",
    "        Main Cast: Song Kang-ho, Lee Sun-kyun, Cho Yeo-jeong, Choi Woo-shik,\n",
    "        Budget: Approximately $15.5 million\n",
    "        Box Office: Around $262.7 million\n",
    "        Genre: Dark comedy thriller\n",
    "        Synopsis: The story follows a poor family, the Kims, who cunningly embed themselves into the lives of the wealthy Park family, leading to unexpected consequences.\n",
    "        \"\"\",\n",
    "    },\n",
    "    {\n",
    "        \"film\": \"The Lord of the Rings: The Fellowship of the Ring\",\n",
    "        \"answer\": \"\"\"\n",
    "        I know this:\n",
    "        Director: Peter Jackson\n",
    "        Main Cast:Elijah WoodIan McKellenOrlando Bloom\n",
    "        Budget: $93 million\n",
    "        Box Office:$883 million\n",
    "        Genre: Action Adventure Drama Fantasy\n",
    "        Synopsis: Tasked with the destruction of the One Ring, their quest begins to save Middle-earth from the dark powers of Sauron, marking the first installment in the \"The Lord of the Rings\" trilogy.\n",
    "        \"\"\",\n",
    "    },\n",
    "]"
   ]
  },
  {
   "cell_type": "code",
   "execution_count": 74,
   "metadata": {},
   "outputs": [
    {
     "data": {
      "text/plain": [
       "AIMessage(content='AI:\\n        I know this:\\n        Director: Chris Columbus (1st and 2nd films), Alfonso Cuarón (3rd film), Mike Newell (4th film), David Yates (5th-8th films)\\n        Main Cast: Daniel Radcliffe, Emma Watson, Rupert Grint\\n        Budget: Varies per film, ranging from $125 million to $250 million\\n        Box Office: Total franchise box office gross is over $7.7 billion\\n        Genre: Fantasy\\n        Synopsis: The series follows the journey of a young wizard, Harry Potter, as he attends Hogwarts School of Witchcraft and Wizardry, battles the dark wizard Lord Voldemort, and discovers his true destiny.')"
      ]
     },
     "execution_count": 74,
     "metadata": {},
     "output_type": "execute_result"
    }
   ],
   "source": [
    "example_prompt = PromptTemplate.from_template(\n",
    "  \"Human: {film} \\n AI:{answer}\"\n",
    ") \n",
    "\n",
    "prompt = FewShotPromptTemplate(\n",
    "  example_prompt=example_prompt,\n",
    "  examples = examples, \n",
    "  input_variables=[\"film\"],\n",
    "  suffix=\"Human:What do you know about {film}?\"\n",
    ")\n",
    "prompt.format(film=\"Die Hard\")\n",
    "chain = prompt | chat\n",
    "chain.invoke({\n",
    "  \"film\":\"harry Potter\"\n",
    "})"
   ]
  },
  {
   "cell_type": "code",
   "execution_count": 82,
   "metadata": {},
   "outputs": [
    {
     "data": {
      "text/plain": [
       "AIMessage(content='\\n        I know this:\\n        Director: Various directors across the series, including Chris Columbus, Alfonso Cuarón, Mike Newell, and David Yates\\n        Main Cast: Daniel Radcliffe, Emma Watson, Rupert Grint\\n        Budget: Varies per film, with the total budget for the series estimated at around $1.2 billion\\n        Box Office: The Harry Potter film series grossed over $7.7 billion worldwide\\n        Genre: Fantasy, Adventure\\n        Synopsis: The series follows the journey of a young wizard, Harry Potter, as he attends Hogwarts School of Witchcraft and Wizardry, battles the dark wizard Lord Voldemort, and discovers his destiny in the wizarding world.\\n        ')"
      ]
     },
     "execution_count": 82,
     "metadata": {},
     "output_type": "execute_result"
    }
   ],
   "source": [
    "example_prompt_new= ChatPromptTemplate.from_messages(\n",
    "  [(\"human\", \"What do you know about {film}?\"),\n",
    "  (\"ai\", \"{answer}\")]\n",
    ")\n",
    "\n",
    "prompt = FewShotChatMessagePromptTemplate(\n",
    "  example_prompt= example_prompt_new,\n",
    "  examples = examples,\n",
    ")\n",
    "\n",
    "final_prompt = ChatPromptTemplate.from_messages(\n",
    "  [(\"system\",\"You are a movie source\"),\n",
    "  prompt, \n",
    "  (\"human\", \"What do you know about {film}?\"),]\n",
    ")\n",
    "chain = final_prompt | chat \n",
    "chain.invoke({\"film\":\"harry Potter\"})"
   ]
  },
  {
   "cell_type": "code",
   "execution_count": null,
   "metadata": {},
   "outputs": [],
   "source": []
  }
 ],
 "metadata": {
  "kernelspec": {
   "display_name": "env",
   "language": "python",
   "name": "python3"
  },
  "language_info": {
   "codemirror_mode": {
    "name": "ipython",
    "version": 3
   },
   "file_extension": ".py",
   "mimetype": "text/x-python",
   "name": "python",
   "nbconvert_exporter": "python",
   "pygments_lexer": "ipython3",
   "version": "3.11.7"
  }
 },
 "nbformat": 4,
 "nbformat_minor": 2
}
